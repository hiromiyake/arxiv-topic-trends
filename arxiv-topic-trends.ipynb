{
 "cells": [
  {
   "cell_type": "markdown",
   "metadata": {},
   "source": [
    "# arXiv Topic Trends Exploration with the arXiv API\n",
    "**Author: Hiro Miyake  \n",
    "Date: February 20, 2017**"
   ]
  },
  {
   "cell_type": "markdown",
   "metadata": {},
   "source": [
    "## Introduction\n",
    "\n",
    "arXiv (https://arxiv.org/) is a preprint repository popular with physics researchers where they can post their latest research papers for others to view freely. In this notebook, I use the arXiv API to explore trends over time of the popularity of certain topics, specifically in the field of atomic physics. Because arXiv is so widely used by physicists to disseminate their results, exploring keyword trends on the arXiv should be a good proxy for exploring the popularity of various topics in physics."
   ]
  },
  {
   "cell_type": "markdown",
   "metadata": {},
   "source": [
    "## Setup\n",
    "\n",
    "I will use Python for this exploration. Further explanation and sample code for using the API is at https://arxiv.org/help/api/index and https://arxiv.org/help/api/user-manual. This analysis is an extenstion of a sample code by Julius B. Lucks (https://arxiv.org/help/api/examples/python_arXiv_parsing_example.txt)."
   ]
  },
  {
   "cell_type": "code",
   "execution_count": 44,
   "metadata": {
    "collapsed": true
   },
   "outputs": [],
   "source": [
    "%matplotlib inline\n",
    "\n",
    "import urllib\n",
    "import feedparser\n",
    "import numpy as np\n",
    "import pylab\n",
    "import matplotlib.pyplot as plt"
   ]
  },
  {
   "cell_type": "code",
   "execution_count": 3,
   "metadata": {
    "collapsed": true
   },
   "outputs": [],
   "source": [
    "# Base api query url\n",
    "base_url = 'http://export.arxiv.org/api/query?';"
   ]
  },
  {
   "cell_type": "markdown",
   "metadata": {},
   "source": [
    "## Access arXiv and search by keywords\n",
    "\n",
    "I am particularly interested in the evolution of topics within the field of ultracold atomic physics, and optical lattices have been a particularly hot topic in the last decade to be able to simulate complicated condensed matter systems with a clean and controllable atomic system (see a review article [here](http://www.nature.com/nphys/journal/v1/n1/full/nphys138.html)). So I will search for the term \"optical lattice\" which can be specified as follows."
   ]
  },
  {
   "cell_type": "code",
   "execution_count": 4,
   "metadata": {
    "collapsed": true
   },
   "outputs": [],
   "source": [
    "# Search parameters\n",
    "search_query = 'all:%22optical+lattice%22'"
   ]
  },
  {
   "cell_type": "markdown",
   "metadata": {},
   "source": [
    "Let us limit the number of hits to 10000 and start with the first entry. This will take a little while to run."
   ]
  },
  {
   "cell_type": "code",
   "execution_count": 46,
   "metadata": {
    "collapsed": false
   },
   "outputs": [
    {
     "name": "stdout",
     "output_type": "stream",
     "text": [
      "Feed title: ArXiv Query: search_query=all:\"optical lattice\"&amp;id_list=&amp;start=0&amp;max_results=10000\n",
      "Feed last updated: 2017-02-20T00:00:00-05:00\n",
      "totalResults for this query: 4073\n",
      "itemsPerPage for this query: 10000\n",
      "startIndex for this query: 0\n"
     ]
    }
   ],
   "source": [
    "start = 0\n",
    "max_results = 10000\n",
    "\n",
    "query = 'search_query=%s&start=%i&max_results=%i' % (search_query,\n",
    "                                                     start,\n",
    "                                                     max_results)\n",
    "\n",
    "# Opensearch metadata such as totalResults, startIndex, \n",
    "# and itemsPerPage live in the opensearch namespase.\n",
    "# Some entry metadata lives in the arXiv namespace.\n",
    "# This is a hack to expose both of these namespaces in\n",
    "# feedparser v4.1\n",
    "feedparser._FeedParserMixin.namespaces['http://a9.com/-/spec/opensearch/1.1/'] = 'opensearch'\n",
    "feedparser._FeedParserMixin.namespaces['http://arxiv.org/schemas/atom'] = 'arxiv'\n",
    "\n",
    "# perform a GET request using the base_url and query\n",
    "response = urllib.urlopen(base_url+query).read()\n",
    "\n",
    "# parse the response using feedparser\n",
    "feed = feedparser.parse(response)\n",
    "\n",
    "# print out feed information\n",
    "print 'Feed title: %s' % feed.feed.title\n",
    "print 'Feed last updated: %s' % feed.feed.updated\n",
    "\n",
    "# print opensearch metadata\n",
    "print 'totalResults for this query: %s' % feed.feed.opensearch_totalresults\n",
    "print 'itemsPerPage for this query: %s' % feed.feed.opensearch_itemsperpage\n",
    "print 'startIndex for this query: %s'   % feed.feed.opensearch_startindex\n",
    "\n",
    "#print len(feed.entries)"
   ]
  },
  {
   "cell_type": "markdown",
   "metadata": {},
   "source": [
    "## Count articles with the keyword \"optical lattice\" by year\n",
    "\n",
    "Now that we have the information of all the arXiv articles with the word \"optical lattice\" in them and their metadata, let us count them by year so we can see how many articles were posted to the arXiv each year. I also output a few of the detailed metadata to see what we have."
   ]
  },
  {
   "cell_type": "code",
   "execution_count": 48,
   "metadata": {
    "collapsed": false
   },
   "outputs": [
    {
     "name": "stdout",
     "output_type": "stream",
     "text": [
      "1\n",
      "e-print metadata\n",
      "arxiv-id: 1002.4551v1\n",
      "Published: 2010-02-24T14:30:38Z\n",
      "2010\n",
      "Title:  Berry's Phase for Ultracold Atoms in an Accelerated Optical Lattice\n",
      "Last Author:  C. Yuce\n",
      "Authors:  C. Yuce\n",
      "Primary Category: cond-mat.quant-gas\n",
      "All Categories: cond-mat.quant-gas\n",
      "Abstract: Berry's phase is investigated for ultracold atoms in a frequency modulated\n",
      "optical lattice. It is shown that Berry's phase appears due to Bloch\n",
      "oscillation and the periodic motion of the optical lattice. Particularly,\n",
      "Berry's phase for ultracold atoms under the gravitational force in an\n",
      "oscillating tight-binding optical lattice is calculated analytically. It is\n",
      "found that the Berry's phase depends linearly on the amplitude of the\n",
      "oscillation of the optical lattice.\n",
      "2\n",
      "e-print metadata\n",
      "arxiv-id: 1511.02958v1\n",
      "Published: 2015-11-10T01:35:46Z\n",
      "2015\n",
      "Title:  Long-time averaged dynamics of a Bose-Einstein condensate in a\n",
      "  bichromatic optical lattice with external harmonic confinement\n",
      "Last Author:  Asaad R. Sakhel\n",
      "Authors:  Asaad R. Sakhel\n",
      "Primary Category: cond-mat.quant-gas\n",
      "All Categories: cond-mat.quant-gas\n",
      "Abstract: The dynamics of a Bose-Einstein condensate are examined numerically in the\n",
      "presence of a one-dimensional bichromatic optical lattice with external\n",
      "harmonic confinement. The condensate is excited by a focusing red laser. For\n",
      "this purpose, the time-dependent Gross Pitaevskii equation is solved using the\n",
      "Crank Nicolson method in real time. Two realizations of the optical lattice are\n",
      "considered, one with a rational and the other with an irrational ratio of the\n",
      "two constituting wave lengths. For a weak bichromatic optical lattice, the\n",
      "long-time averaged physical observables of the condensate respond only very\n",
      "weakly (or not at all) to changes in the secondary optical lattice depth.\n",
      "However, for a much larger strength of the latter optical lattice, the response\n",
      "is stronger. It is found that qualitatively there is no difference between the\n",
      "dynamics of the condensate resulting from the use of a rational or irrational\n",
      "ratio of the optical lattice wavelengths since the external harmonic trap\n",
      "washes it out. It is further found that in the presence of an external harmonic\n",
      "trap, the bichromatic optical lattice acts in favor of superflow.\n",
      "4073\n"
     ]
    }
   ],
   "source": [
    "pub_year = {}\n",
    "\n",
    "index = 1\n",
    "# Run through each entry, and print out information\n",
    "for entry in feed.entries:\n",
    "    if index < 3:\n",
    "        print index\n",
    "        print 'e-print metadata'\n",
    "        print 'arxiv-id: %s' % entry.id.split('/abs/')[-1]\n",
    "        print 'Published: %s' % entry.published\n",
    "        print entry.published_parsed[0]\n",
    "        print 'Title:  %s' % entry.title\n",
    "        \n",
    "        # feedparser v4.1 only grabs the first author\n",
    "        author_string = entry.author\n",
    "    \n",
    "        # grab the affiliation in <arxiv:affiliation> if present\n",
    "        # - this will only grab the first affiliation encountered\n",
    "        #   (the first affiliation for the first author)\n",
    "        # Please email the list with a way to get all of this information!\n",
    "        try:\n",
    "            author_string += ' (%s)' % entry.arxiv_affiliation\n",
    "        except AttributeError:\n",
    "            pass\n",
    "    \n",
    "        print 'Last Author:  %s' % author_string\n",
    "    \n",
    "        # feedparser v5.0.1 correctly handles multiple authors, print them all\n",
    "        try:\n",
    "            print 'Authors:  %s' % ', '.join(author.name for author in entry.authors)\n",
    "        except AttributeError:\n",
    "            pass\n",
    "        \n",
    "        # Since the <arxiv:primary_category> element has no data, only\n",
    "        # attributes, feedparser does not store anything inside\n",
    "        # entry.arxiv_primary_category\n",
    "        # This is a dirty hack to get the primary_category, just take the\n",
    "        # first element in entry.tags.  If anyone knows a better way to do\n",
    "        # this, please email the list!\n",
    "        print 'Primary Category: %s' % entry.tags[0]['term']\n",
    "        \n",
    "        # Lets get all the categories\n",
    "        all_categories = [t['term'] for t in entry.tags]\n",
    "        print 'All Categories: %s' % (', ').join(all_categories)\n",
    "    \n",
    "        # The abstract is in the <summary> element\n",
    "        print 'Abstract: %s' %  entry.summary\n",
    "        \n",
    "    index += 1\n",
    "    \n",
    "    if entry.published_parsed[0] in pub_year:\n",
    "        pub_year[entry.published_parsed[0]] += 1\n",
    "    else:\n",
    "        pub_year[entry.published_parsed[0]] = 1\n",
    "\n",
    "print sum(pub_year.values())"
   ]
  },
  {
   "cell_type": "markdown",
   "metadata": {},
   "source": [
    "We see that the total number of entries is 4073, so 10000 was more than enough to cover all articles with the words \"optical lattice\" in them."
   ]
  },
  {
   "cell_type": "markdown",
   "metadata": {},
   "source": [
    "## Plot of arXiv posts with the keyword \"optical lattice\" by year\n",
    "\n",
    "Now we can plot the number of arXiv posts with the relevant term, \"optical lattice.\""
   ]
  },
  {
   "cell_type": "code",
   "execution_count": 54,
   "metadata": {
    "collapsed": false
   },
   "outputs": [
    {
     "data": {
      "image/png": "[encoded data removed]",
      "text/plain": [
       "<matplotlib.figure.Figure at 0x12190f390>"
      ]
     },
     "metadata": {},
     "output_type": "display_data"
    }
   ],
   "source": [
    "fig=plt.figure(figsize=(10, 6))\n",
    "plt.plot(pub_year.keys(), pub_year.values(),'.', markersize=20)\n",
    "plt.xlabel('Year', fontsize=20)\n",
    "plt.ylabel('Number of Articles', fontsize=20)\n",
    "plt.rc('xtick', labelsize=20)\n",
    "plt.rc('ytick', labelsize=20)\n",
    "plt.show()"
   ]
  },
  {
   "cell_type": "markdown",
   "metadata": {},
   "source": [
    "## Conclusions\n",
    "\n",
    "We can conclude from the plot that the topic of optical lattice became a hot topic in the mid-2000s and appears to have plateaued at around 2010.\n",
    "\n",
    "Furthermore, it is straightforward to search for other keywords of interest and make a similar to plot to explore trending topics in physics."
   ]
  }
 ],
 "metadata": {
  "kernelspec": {
   "display_name": "Python 2",
   "language": "python",
   "name": "python2"
  },
  "language_info": {
   "codemirror_mode": {
    "name": "ipython",
    "version": 2
   },
   "file_extension": ".py",
   "mimetype": "text/x-python",
   "name": "python",
   "nbconvert_exporter": "python",
   "pygments_lexer": "ipython2",
   "version": "2.7.13"
  }
 },
 "nbformat": 4,
 "nbformat_minor": 2
}
